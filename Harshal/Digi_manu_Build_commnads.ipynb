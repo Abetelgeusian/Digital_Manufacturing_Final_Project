{
 "cells": [
  {
   "cell_type": "code",
   "execution_count": null,
   "metadata": {},
   "outputs": [],
   "source": [
    "import cv2 as cv\n",
    "import math as math\n",
    "from PIL import Image\n",
    "import pandas as pd\n",
    "import numpy as np\n",
    "import glob\n",
    "import matplotlib.pyplot as plt\n",
    "import skimage.io\n",
    "import skimage.color\n",
    "import skimage.filters\n",
    "import pandas as pd\n",
    "import glob"
   ]
  },
  {
   "cell_type": "code",
   "execution_count": null,
   "metadata": {},
   "outputs": [],
   "source": [
    "path = (r'D:\\Clemson Spring 21\\6620 Digital Automotive Manufacturing\\Final Project\\Harshal')\n",
    "all_files = glob.glob(path + \"/*.csv\")\n",
    "index = 0\n",
    "li = []\n",
    "layer = ['11','35','37','38','39','40','41','42','43','44','45','46','47','48','49','50','62','70',\n",
    "         '82','90','110','111','115','123','137','139','140','147','150','168','181','191','218','226','240']\n",
    "for filename in all_files:\n",
    "    df = pd.read_csv(filename, index_col=None, header=0);\n",
    "    df.columns = ['X','Y','P','T']\n",
    "    \n",
    "    df['Layer'] = layer[index]\n",
    "    print(filename.split())\n",
    "    li.append(df)\n",
    "    index += 1\n",
    "    time = []\n",
    "    for i in range(0,len(df)):\n",
    "        time.append(i*10e-5)\n",
    "    df['Time'] = time\n",
    "    speed = [0]\n",
    "    degrees = []\n",
    "    speed = [0]\n",
    "    degrees = []\n",
    "    for i in range(1,len(df)):\n",
    "        deltaX = df['X'][i] - df['X'][i-1]\n",
    "        deltaY = df['Y'][i] - df['Y'][i-1]\n",
    "        dist = (deltaX**2 + deltaY**2)**0.5\n",
    "        speed.append(dist/10e-5)\n",
    "    for i in range(0,len(df)-1):\n",
    "        deltaX = df['X'][i] - df['X'][i+1]\n",
    "        deltaY = df['Y'][i] - df['Y'][i+1]\n",
    "        deg = math.atan2(deltaX,deltaY)/math.pi*180\n",
    "        degrees.append(deg)\n",
    "    degrees.append(0)\n",
    "    df['Speed'] = speed\n",
    "    df['degrees'] = degrees        \n",
    "    \n",
    "frame = pd.concat(li, axis=0, ignore_index=True)\n",
    "frame.tail()"
   ]
  },
  {
   "cell_type": "code",
   "execution_count": null,
   "metadata": {},
   "outputs": [],
   "source": [
    "frame = frame.reindex(columns = ['Layer','Time','X','Y','degrees','Speed','P','T'])"
   ]
  },
  {
   "cell_type": "code",
   "execution_count": null,
   "metadata": {},
   "outputs": [],
   "source": [
    "frame.head()"
   ]
  },
  {
   "cell_type": "code",
   "execution_count": null,
   "metadata": {},
   "outputs": [],
   "source": [
    "area=[]\n",
    "splatter = []\n",
    "tail_len = []\n",
    "for i in range(len(frame)): \n",
    "    area.append(math.nan)\n",
    "    splatter.append(math.nan)\n",
    "    tail_len.append(math.nan)\n",
    "frame['Area'] = area\n",
    "frame['Tail length'] = tail_len\n",
    "frame['Splatter'] = splatter\n",
    "print(frame['Area'].isnull().sum())\n",
    "frame.tail()"
   ]
  },
  {
   "cell_type": "code",
   "execution_count": null,
   "metadata": {},
   "outputs": [],
   "source": [
    "frame_img = pd.read_csv(r'D:\\Clemson Spring 21\\6620 Digital Automotive Manufacturing\\Final Project\\Harshal\\Frame_img.csv')\n",
    "count = 0;\n",
    "for i in range(0, len(frame)):\n",
    "    if frame.at[i, 'T'] == 2 :\n",
    "        frame.at[i,'Area'] = frame_img.at[count, 'Area']\n",
    "        frame.at[i, 'Splatter'] = frame_img.at[count, 'splatter']\n",
    "        frame.at[i, 'Tail length'] = frame_img.at[count,'Tail length']\n",
    "        count +=1\n",
    "        print(frame.loc[i])"
   ]
  },
  {
   "cell_type": "code",
   "execution_count": null,
   "metadata": {},
   "outputs": [],
   "source": [
    "# print(count)\n",
    "print(frame.isnull().sum())\n",
    "#frame.interpolate(limit = 10 , limit_area = 'inside' )\n",
    "# print(frame['Area'].isnull().sum())\n",
    "#frame.Area.isnull().sum()"
   ]
  },
  {
   "cell_type": "code",
   "execution_count": null,
   "metadata": {},
   "outputs": [],
   "source": [
    "[frame1, frame2, frame3] = np.array_split(frame,3)\n",
    "    \n",
    "frame1.to_csv('Frame1.csv', index = False)\n",
    "frame2.to_csv('Frame2.csv', index = False)\n",
    "frame3.to_csv('Frame3.csv', index = False)\n",
    "#print(frame.isnull().sum())"
   ]
  },
  {
   "cell_type": "code",
   "execution_count": null,
   "metadata": {},
   "outputs": [],
   "source": [
    "print(frame1.tail())\n",
    "print(frame2.head())\n",
    "print(frame2.tail())\n",
    "print(frame3.head())\n",
    "print(frame3.tail())"
   ]
  },
  {
   "cell_type": "code",
   "execution_count": null,
   "metadata": {},
   "outputs": [],
   "source": []
  },
  {
   "cell_type": "code",
   "execution_count": null,
   "metadata": {},
   "outputs": [],
   "source": []
  },
  {
   "cell_type": "code",
   "execution_count": null,
   "metadata": {},
   "outputs": [],
   "source": []
  }
 ],
 "metadata": {
  "kernelspec": {
   "display_name": "Python 3 (ipykernel)",
   "language": "python",
   "name": "python3"
  },
  "language_info": {
   "codemirror_mode": {
    "name": "ipython",
    "version": 3
   },
   "file_extension": ".py",
   "mimetype": "text/x-python",
   "name": "python",
   "nbconvert_exporter": "python",
   "pygments_lexer": "ipython3",
   "version": "3.9.7"
  }
 },
 "nbformat": 4,
 "nbformat_minor": 4
}
