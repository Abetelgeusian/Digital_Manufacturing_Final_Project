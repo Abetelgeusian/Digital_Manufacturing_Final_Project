{
 "cells": [
  {
   "cell_type": "code",
   "execution_count": 1,
   "metadata": {},
   "outputs": [],
   "source": [
    "import glob\n",
    "import cv2 as cv\n",
    "import numpy as np\n",
    "import pandas as pd\n",
    "list_area = []\n",
    "list_area2 = []\n",
    "blob_dia = []\n",
    "blob_dia2 = []\n",
    "est_tail_len = []\n",
    "splatter = []\n",
    "images = [cv.imread(file) for file in glob.glob(r\"C:\\Users\\SHUBHAM THORAT\\Documents\\Manu_project\\Images\\**\\*.bmp\")]\n",
    "# images,\n",
    "for i in range(len(images)):\n",
    "    img = images[i]\n",
    "    img = cv.cvtColor(img, cv.COLOR_BGR2GRAY)\n",
    "    ret ,bw = cv.threshold(img, 80, 255, cv.THRESH_BINARY)\n",
    "    im=cv.countNonZero(bw)\n",
    "    list_area.append(im*64)\n",
    "    #print(im)\n",
    "    bw2 = ~bw\n",
    "    ret ,bw1 = cv.threshold(img, 40, 255, cv.THRESH_BINARY)\n",
    "    im1=cv.countNonZero(bw1)\n",
    "    list_area2.append(im1*64)\n",
    "    bw_low = ~bw1\n",
    "    #print(f\"im1\" , im1)\n",
    "\n",
    "    # create the params and deactivate the 3 filters\n",
    "    params = cv.SimpleBlobDetector_Params()\n",
    "    params2 = cv.SimpleBlobDetector_Params()\n",
    "    # params.filterByArea = False\n",
    "    # params.filterByInertia = False\n",
    "    # params.filterByConvexity = False\n",
    "\n",
    "    # params.maxArea = 100000\n",
    "    # params.minInertiaRatio = 0.1\n",
    "    # params.minConvexity = 0.1\n",
    "\n",
    "\n",
    "    # Filter by Area.\n",
    "    params.filterByArea = False\n",
    "    params2.filterByArea = True\n",
    "    params2.minArea = 10\n",
    "\n",
    "    # Filter by Circularity\n",
    "    params.filterByCircularity = True\n",
    "    params.minCircularity = 0.6\n",
    "    params2.filterByCircularity = True\n",
    "    params2.minCircularity = 0\n",
    "    # Filter by Convexity\n",
    "    params.filterByConvexity = False\n",
    "    params2.filterByConvexity = False\n",
    "    params.minConvexity = 0.87\n",
    "\n",
    "    # Filter by Inertia\n",
    "    params.filterByInertia = False\n",
    "    params2.filterByInertia = False\n",
    "    params.minInertiaRatio = 0.01\n",
    "\n",
    "    # Set up the detector with default parameters.\n",
    "    detector = cv.SimpleBlobDetector_create(params)\n",
    "    detector2 = cv.SimpleBlobDetector_create(params2)\n",
    "    \n",
    "    # Detect blobs.\n",
    "    keypoints = detector.detect(bw2)\n",
    "    keypoints2 = detector2.detect(bw_low)\n",
    "    \n",
    "    # Draw detected blobs as red circles.\n",
    "    # cv2.DRAW_MATCHES_FLAGS_DRAW_RICH_KEYPOINTS ensures the size of the circle corresponds to the size of blob\n",
    "    im_with_keypoints = cv.drawKeypoints(bw, keypoints, np.array([]), (0,0,255), cv.DRAW_MATCHES_FLAGS_DRAW_RICH_KEYPOINTS)\n",
    "    im_with_keypoints2 = cv.drawKeypoints(bw1, keypoints2, np.array([]), (0,0,255), cv.DRAW_MATCHES_FLAGS_DRAW_RICH_KEYPOINTS)\n",
    "    \n",
    "    temp = [0]\n",
    "    for kp in keypoints: \n",
    "        temp.append(kp.size)\n",
    "    blob_dia.append(max(temp))\n",
    "\n",
    "    if len(keypoints2) > 1: splatter.append(1)\n",
    "    else : splatter.append(0)\n",
    "    \n",
    "    temp = [0]\n",
    "    for kp2 in keypoints2:\n",
    "        temp.append(kp2.size)    \n",
    "    blob_dia2.append(max(temp))\n",
    "    tail_est = blob_dia2[-1] - blob_dia[-1]\n",
    "    est_tail_len.append(tail_est*8)\n",
    "    # a = img - bw\n",
    "\n",
    "    # splatter = bool\n",
    "    # if im1-img != 0:\n",
    "    #     splatter = True\n",
    "    # else:\n",
    "    #     splatter = False\n",
    "\n",
    "    # print(splatter)\n",
    "\n",
    "    # contours,hierarchy = cv.findContours(bw, 1, 2)\n",
    "    # cnt = contours[0]\n",
    "\n",
    "    # (x,y),radius = cv.minEnclosingCircle(cnt)  \n",
    "    # center = (int(x),int(y))\n",
    "    # radius = int(radius)\n",
    "    # cv.circle(bw,center,radius,(0,255,0),5)\n",
    "    \n",
    "    #cv.imshow('Image', im_with_keypoints)\n",
    "    #cv.imshow('Image2', im_with_keypoints2)\n",
    "    #cv.imshow('Image1', key)\n",
    "    #cv.imshow('ImageOG', img)\n",
    "    cv.waitKey(0)\n",
    "    cv.destroyAllWindows()\n",
    "# for saving files in different directory https://pythonguides.com/python-save-an-image-to-file/\n",
    "\n",
    "\n"
   ]
  },
  {
   "cell_type": "code",
   "execution_count": 2,
   "metadata": {},
   "outputs": [
    {
     "name": "stdout",
     "output_type": "stream",
     "text": [
      "163887\n",
      "163887\n",
      "163887\n",
      "163887\n",
      "163887\n"
     ]
    }
   ],
   "source": [
    "print(len(list_area))\n",
    "print(len(blob_dia))\n",
    "print(len(blob_dia2))\n",
    "print(len(splatter)) \n",
    "print(len(est_tail_len))"
   ]
  },
  {
   "cell_type": "code",
   "execution_count": 9,
   "metadata": {},
   "outputs": [],
   "source": [
    "frame_img = pd.DataFrame(list(zip(list_area,est_tail_len, splatter)), columns = ['Area','Tail length', 'splatter'])"
   ]
  },
  {
   "cell_type": "code",
   "execution_count": 10,
   "metadata": {},
   "outputs": [],
   "source": [
    "frame_img.to_csv('Frame_img.csv', index = False)"
   ]
  },
  {
   "cell_type": "code",
   "execution_count": null,
   "metadata": {},
   "outputs": [],
   "source": []
  },
  {
   "cell_type": "code",
   "execution_count": null,
   "metadata": {},
   "outputs": [],
   "source": []
  }
 ],
 "metadata": {
  "interpreter": {
   "hash": "00f3a0036d7cd96b3bd69c3fe100eb08afd7b85064a029004627452929f0cc24"
  },
  "kernelspec": {
   "display_name": "Python 3",
   "language": "python",
   "name": "python3"
  },
  "language_info": {
   "codemirror_mode": {
    "name": "ipython",
    "version": 3
   },
   "file_extension": ".py",
   "mimetype": "text/x-python",
   "name": "python",
   "nbconvert_exporter": "python",
   "pygments_lexer": "ipython3",
   "version": "3.8.3"
  }
 },
 "nbformat": 4,
 "nbformat_minor": 2
}
